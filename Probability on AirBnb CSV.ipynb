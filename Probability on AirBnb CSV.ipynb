{
 "cells": [
  {
   "cell_type": "code",
   "execution_count": 1,
   "id": "a13ca6f6",
   "metadata": {},
   "outputs": [],
   "source": [
    "import pandas as pd"
   ]
  },
  {
   "cell_type": "code",
   "execution_count": 2,
   "id": "b2a15517",
   "metadata": {},
   "outputs": [],
   "source": [
    "df=pd.read_csv(\"airbnb_data.csv\")"
   ]
  },
  {
   "cell_type": "code",
   "execution_count": 3,
   "id": "377a0836",
   "metadata": {},
   "outputs": [
    {
     "data": {
      "text/html": [
       "<div>\n",
       "<style scoped>\n",
       "    .dataframe tbody tr th:only-of-type {\n",
       "        vertical-align: middle;\n",
       "    }\n",
       "\n",
       "    .dataframe tbody tr th {\n",
       "        vertical-align: top;\n",
       "    }\n",
       "\n",
       "    .dataframe thead th {\n",
       "        text-align: right;\n",
       "    }\n",
       "</style>\n",
       "<table border=\"1\" class=\"dataframe\">\n",
       "  <thead>\n",
       "    <tr style=\"text-align: right;\">\n",
       "      <th></th>\n",
       "      <th>id</th>\n",
       "      <th>name</th>\n",
       "      <th>room_type</th>\n",
       "      <th>price</th>\n",
       "      <th>minimum_nights</th>\n",
       "      <th>number_of_reviews</th>\n",
       "      <th>city</th>\n",
       "    </tr>\n",
       "  </thead>\n",
       "  <tbody>\n",
       "    <tr>\n",
       "      <th>0</th>\n",
       "      <td>3781</td>\n",
       "      <td>HARBORSIDE-Walk to subway</td>\n",
       "      <td>Apartment</td>\n",
       "      <td>146</td>\n",
       "      <td>28</td>\n",
       "      <td>16</td>\n",
       "      <td>Boston</td>\n",
       "    </tr>\n",
       "    <tr>\n",
       "      <th>1</th>\n",
       "      <td>5506</td>\n",
       "      <td>**$49 Special **   Private! Minutes to center!</td>\n",
       "      <td>Apartment</td>\n",
       "      <td>145</td>\n",
       "      <td>3</td>\n",
       "      <td>107</td>\n",
       "      <td>Boston</td>\n",
       "    </tr>\n",
       "    <tr>\n",
       "      <th>2</th>\n",
       "      <td>6695</td>\n",
       "      <td>$99 Special!! Home Away! Condo</td>\n",
       "      <td>Apartment</td>\n",
       "      <td>169</td>\n",
       "      <td>3</td>\n",
       "      <td>115</td>\n",
       "      <td>Boston</td>\n",
       "    </tr>\n",
       "    <tr>\n",
       "      <th>3</th>\n",
       "      <td>10730</td>\n",
       "      <td>Bright 1bed facing Golden Dome</td>\n",
       "      <td>Apartment</td>\n",
       "      <td>85</td>\n",
       "      <td>91</td>\n",
       "      <td>32</td>\n",
       "      <td>Boston</td>\n",
       "    </tr>\n",
       "    <tr>\n",
       "      <th>4</th>\n",
       "      <td>10813</td>\n",
       "      <td>Back Bay Apt-blocks to subway, Newbury St, The...</td>\n",
       "      <td>Apartment</td>\n",
       "      <td>87</td>\n",
       "      <td>28</td>\n",
       "      <td>10</td>\n",
       "      <td>Boston</td>\n",
       "    </tr>\n",
       "  </tbody>\n",
       "</table>\n",
       "</div>"
      ],
      "text/plain": [
       "      id                                               name  room_type  price  \\\n",
       "0   3781                          HARBORSIDE-Walk to subway  Apartment    146   \n",
       "1   5506     **$49 Special **   Private! Minutes to center!  Apartment    145   \n",
       "2   6695                     $99 Special!! Home Away! Condo  Apartment    169   \n",
       "3  10730                     Bright 1bed facing Golden Dome  Apartment     85   \n",
       "4  10813  Back Bay Apt-blocks to subway, Newbury St, The...  Apartment     87   \n",
       "\n",
       "   minimum_nights  number_of_reviews    city  \n",
       "0              28                 16  Boston  \n",
       "1               3                107  Boston  \n",
       "2               3                115  Boston  \n",
       "3              91                 32  Boston  \n",
       "4              28                 10  Boston  "
      ]
     },
     "execution_count": 3,
     "metadata": {},
     "output_type": "execute_result"
    }
   ],
   "source": [
    "df.head()"
   ]
  },
  {
   "cell_type": "code",
   "execution_count": 4,
   "id": "9e3dc452",
   "metadata": {},
   "outputs": [
    {
     "name": "stdout",
     "output_type": "stream",
     "text": [
      "<class 'pandas.core.frame.DataFrame'>\n",
      "RangeIndex: 32348 entries, 0 to 32347\n",
      "Data columns (total 7 columns):\n",
      " #   Column             Non-Null Count  Dtype \n",
      "---  ------             --------------  ----- \n",
      " 0   id                 32348 non-null  int64 \n",
      " 1   name               32348 non-null  object\n",
      " 2   room_type          32348 non-null  object\n",
      " 3   price              32348 non-null  int64 \n",
      " 4   minimum_nights     32348 non-null  int64 \n",
      " 5   number_of_reviews  32348 non-null  int64 \n",
      " 6   city               32348 non-null  object\n",
      "dtypes: int64(4), object(3)\n",
      "memory usage: 1.7+ MB\n"
     ]
    }
   ],
   "source": [
    "df.info()"
   ]
  },
  {
   "cell_type": "code",
   "execution_count": 5,
   "id": "82db50c6",
   "metadata": {
    "scrolled": true
   },
   "outputs": [
    {
     "data": {
      "text/plain": [
       "Hawaii     22434\n",
       "Seattle     6575\n",
       "Boston      3339\n",
       "Name: city, dtype: int64"
      ]
     },
     "execution_count": 5,
     "metadata": {},
     "output_type": "execute_result"
    }
   ],
   "source": [
    "df.city.value_counts()"
   ]
  },
  {
   "cell_type": "code",
   "execution_count": 13,
   "id": "cac6b670",
   "metadata": {
    "scrolled": false
   },
   "outputs": [
    {
     "data": {
      "text/plain": [
       "Apartment    27241\n",
       "Private       4660\n",
       "HotelRoom      272\n",
       "Shared         175\n",
       "Name: room_type, dtype: int64"
      ]
     },
     "execution_count": 13,
     "metadata": {},
     "output_type": "execute_result"
    }
   ],
   "source": [
    "df.room_type.value_counts()"
   ]
  },
  {
   "cell_type": "code",
   "execution_count": 7,
   "id": "9dc2433c",
   "metadata": {
    "scrolled": true
   },
   "outputs": [
    {
     "data": {
      "text/plain": [
       "id                   False\n",
       "name                 False\n",
       "room_type            False\n",
       "price                False\n",
       "minimum_nights       False\n",
       "number_of_reviews    False\n",
       "city                 False\n",
       "dtype: bool"
      ]
     },
     "execution_count": 7,
     "metadata": {},
     "output_type": "execute_result"
    }
   ],
   "source": [
    "df.isnull().any()"
   ]
  },
  {
   "cell_type": "code",
   "execution_count": 16,
   "id": "ac293d19",
   "metadata": {},
   "outputs": [
    {
     "data": {
      "text/plain": [
       "32348"
      ]
     },
     "execution_count": 16,
     "metadata": {},
     "output_type": "execute_result"
    }
   ],
   "source": [
    "#sample space\n",
    "ss_ab=df.id.count()\n",
    "ss_ab"
   ]
  },
  {
   "cell_type": "code",
   "execution_count": 15,
   "id": "180633fa",
   "metadata": {},
   "outputs": [
    {
     "name": "stdout",
     "output_type": "stream",
     "text": [
      "3339\n"
     ]
    }
   ],
   "source": [
    "#number of rooms in Boston\n",
    "series1=df.apply(lambda x:True if x['city']=='Boston' else 'False',axis=1)\n",
    "bos=len(series1[series1==True])\n",
    "print(bos)"
   ]
  },
  {
   "cell_type": "code",
   "execution_count": 19,
   "id": "27081643",
   "metadata": {},
   "outputs": [
    {
     "name": "stdout",
     "output_type": "stream",
     "text": [
      "0.103\n"
     ]
    }
   ],
   "source": [
    "#probability of finding a room in Boston\n",
    "p_bos=round(bos/ss_ab,3)\n",
    "print(p_bos)"
   ]
  },
  {
   "cell_type": "code",
   "execution_count": 20,
   "id": "46e39f1f",
   "metadata": {},
   "outputs": [
    {
     "name": "stdout",
     "output_type": "stream",
     "text": [
      "22434\n"
     ]
    }
   ],
   "source": [
    "#number of rooms in Hawaii\n",
    "series2=df.apply(lambda x:True if x['city']=='Hawaii' else 'False',axis=1 )\n",
    "haw=len(series2[series2==True])\n",
    "print(haw)"
   ]
  },
  {
   "cell_type": "code",
   "execution_count": 22,
   "id": "1f04620b",
   "metadata": {},
   "outputs": [
    {
     "name": "stdout",
     "output_type": "stream",
     "text": [
      "0.694\n"
     ]
    }
   ],
   "source": [
    "#probability of finding a room in Hawaii\n",
    "p_haw=round(haw/ss_ab,3)\n",
    "print(p_haw)\n"
   ]
  },
  {
   "cell_type": "code",
   "execution_count": 23,
   "id": "07755a5d",
   "metadata": {},
   "outputs": [
    {
     "name": "stdout",
     "output_type": "stream",
     "text": [
      "6575\n"
     ]
    }
   ],
   "source": [
    "series3=df.apply(lambda x:True if x['city']=='Seattle' else 'False',axis=1)\n",
    "sea=len(series3[series3==True])\n",
    "print(sea)"
   ]
  },
  {
   "cell_type": "code",
   "execution_count": 24,
   "id": "324cc388",
   "metadata": {},
   "outputs": [
    {
     "name": "stdout",
     "output_type": "stream",
     "text": [
      "0.203\n"
     ]
    }
   ],
   "source": [
    "p_sea=round(sea/ss_ab,3)\n",
    "print(p_sea)"
   ]
  },
  {
   "cell_type": "markdown",
   "id": "1669fd32",
   "metadata": {},
   "source": [
    "# INFERENCES\n",
    "\n",
    "(1)All three are mutually exclusive events i.e. no tw can occour at the same time .The sum of their probabilities is one.\n",
    "(2)Probabilities of finding a room in Boston ,Hawaii and Seattle are 0.103 ,0.694 and 0.203 respectively ."
   ]
  },
  {
   "cell_type": "markdown",
   "id": "b765d903",
   "metadata": {},
   "source": [
    "# Finding a room either in Boston or Hawaii"
   ]
  },
  {
   "cell_type": "code",
   "execution_count": 25,
   "id": "97bbbee6",
   "metadata": {},
   "outputs": [
    {
     "name": "stdout",
     "output_type": "stream",
     "text": [
      "0.7969999999999999\n"
     ]
    }
   ],
   "source": [
    "p_bos_or_haw=p_bos+p_haw\n",
    "print(p_bos_or_haw)"
   ]
  },
  {
   "cell_type": "markdown",
   "id": "8871ebfc",
   "metadata": {},
   "source": [
    "# Probability of finding a room in Boston or an Apartment."
   ]
  },
  {
   "cell_type": "code",
   "execution_count": 28,
   "id": "702063a2",
   "metadata": {},
   "outputs": [
    {
     "name": "stdout",
     "output_type": "stream",
     "text": [
      "2163\n"
     ]
    }
   ],
   "source": [
    "n_apt_bos=df[(df['room_type']=='Apartment')&(df['city']=='Boston')].count()['id']\n",
    "print(n_apt_bos)"
   ]
  },
  {
   "cell_type": "code",
   "execution_count": 36,
   "id": "d367997a",
   "metadata": {},
   "outputs": [
    {
     "name": "stdout",
     "output_type": "stream",
     "text": [
      "0\n"
     ]
    }
   ],
   "source": []
  },
  {
   "cell_type": "code",
   "execution_count": 38,
   "id": "2d8acc0e",
   "metadata": {},
   "outputs": [
    {
     "name": "stdout",
     "output_type": "stream",
     "text": [
      "27241\n"
     ]
    }
   ],
   "source": [
    "#number of Apartment type rooms\n",
    "series4 = df.apply(lambda x: True if x['room_type'] == 'Apartment' else 'False' , axis=1)\n",
    "apts = len(series4[series4 == True])\n",
    "print(apts)"
   ]
  },
  {
   "cell_type": "code",
   "execution_count": 39,
   "id": "9f62cb96",
   "metadata": {},
   "outputs": [
    {
     "name": "stdout",
     "output_type": "stream",
     "text": [
      "0.842\n"
     ]
    }
   ],
   "source": [
    "p_apts=round(apts/ss_ab,3)\n",
    "print(p_apts)"
   ]
  },
  {
   "cell_type": "code",
   "execution_count": 40,
   "id": "a9cd6ade",
   "metadata": {},
   "outputs": [
    {
     "data": {
      "text/plain": [
       "0.067"
      ]
     },
     "execution_count": 40,
     "metadata": {},
     "output_type": "execute_result"
    }
   ],
   "source": [
    "p_aptANDboston=round(n_apt_bos/ss_ab,3)\n",
    "p_aptANDboston"
   ]
  },
  {
   "cell_type": "code",
   "execution_count": 41,
   "id": "0c484aad",
   "metadata": {},
   "outputs": [
    {
     "data": {
      "text/plain": [
       "0.8779999999999999"
      ]
     },
     "execution_count": 41,
     "metadata": {},
     "output_type": "execute_result"
    }
   ],
   "source": [
    "p_bosORapt = p_bos + p_apts - p_aptANDboston\n",
    "p_bosORapt"
   ]
  },
  {
   "cell_type": "code",
   "execution_count": 43,
   "id": "0cb67f42",
   "metadata": {},
   "outputs": [
    {
     "data": {
      "text/plain": [
       "1399"
      ]
     },
     "execution_count": 43,
     "metadata": {},
     "output_type": "execute_result"
    }
   ],
   "source": [
    "n_sea_pvt=df[(df['city']=='Seattle')&(df['room_type']=='Private')].count()['id']\n",
    "n_sea_pvt"
   ]
  },
  {
   "cell_type": "code",
   "execution_count": 44,
   "id": "d0a9f787",
   "metadata": {},
   "outputs": [
    {
     "data": {
      "text/plain": [
       "0.043"
      ]
     },
     "execution_count": 44,
     "metadata": {},
     "output_type": "execute_result"
    }
   ],
   "source": [
    "p_pvtANDsea=round(n_sea_pvt/ss_ab,3)\n",
    "p_pvtANDsea"
   ]
  },
  {
   "cell_type": "code",
   "execution_count": null,
   "id": "68eb8dbf",
   "metadata": {},
   "outputs": [],
   "source": []
  }
 ],
 "metadata": {
  "kernelspec": {
   "display_name": "Python 3 (ipykernel)",
   "language": "python",
   "name": "python3"
  },
  "language_info": {
   "codemirror_mode": {
    "name": "ipython",
    "version": 3
   },
   "file_extension": ".py",
   "mimetype": "text/x-python",
   "name": "python",
   "nbconvert_exporter": "python",
   "pygments_lexer": "ipython3",
   "version": "3.9.12"
  }
 },
 "nbformat": 4,
 "nbformat_minor": 5
}
